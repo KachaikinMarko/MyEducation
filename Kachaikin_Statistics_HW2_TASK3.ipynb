{
  "nbformat": 4,
  "nbformat_minor": 0,
  "metadata": {
    "colab": {
      "name": "Kachaikin-Statistics-HW2-TASK3.ipynb",
      "provenance": []
    },
    "kernelspec": {
      "name": "python3",
      "display_name": "Python 3"
    },
    "language_info": {
      "name": "python"
    }
  },
  "cells": [
    {
      "cell_type": "markdown",
      "source": [
        "**TASK 3**"
      ],
      "metadata": {
        "id": "moNQEtAiLZZk"
      }
    },
    {
      "cell_type": "markdown",
      "source": [
        "***a)***"
      ],
      "metadata": {
        "id": "aFuUniDzNmos"
      }
    },
    {
      "cell_type": "code",
      "execution_count": 10,
      "metadata": {
        "id": "sgAvn9ZtK8tT"
      },
      "outputs": [],
      "source": [
        "import pandas as pd\n",
        "#I download this dataset on my git, because i would like to work with it in google colab...\n",
        "df=pd.read_csv('https://raw.githubusercontent.com/KachaikinMarko/MyEducation/main/StudentsPerformance.csv')\n",
        "sample = list(df['math score'])\n",
        "lunches = list(df['lunch'])\n",
        "readsample=list(df['reading score'])\n",
        "data=[[sample[i],lunches[i],readsample[i]] for i in range(len(sample))]\n",
        "\n",
        "var_series_sdlunch=[[i[0],i[2]] for i in data if i[1]=='standard']\n",
        "\n",
        "var_series_reflunch=[[i[0],i[2]] for i in data if i[1]!='standard']\n",
        "\n",
        "var_series_sdlunch_math=[i[0] for i in var_series_sdlunch]\n",
        "var_series_sdlunch_read=[i[1] for i in var_series_sdlunch]\n",
        "var_series_reflunch_math=[i[0] for i in var_series_reflunch]\n",
        "var_series_reflunch_read=[i[1] for i in var_series_reflunch]"
      ]
    },
    {
      "cell_type": "markdown",
      "source": [
        "Firstly for data with STANDARD LUNCHES"
      ],
      "metadata": {
        "id": "1zzSLt1HO6Rn"
      }
    },
    {
      "cell_type": "code",
      "source": [
        "import matplotlib.pyplot as plt\n",
        "import numpy as np\n",
        "#Let's create empirical distribution function\n",
        "def emp_dist_func(x,S):\n",
        "  D=[i for i in S if i<x]\n",
        "  return len(D)/len(S)\n",
        "  \n",
        "x=np.arange(min(var_series_sdlunch_math),max(var_series_sdlunch_math),0.01)\n",
        "y=[]\n",
        "for i in x:\n",
        "  y.append(emp_dist_func(i,var_series_sdlunch_math))\n",
        "plt.plot(x,y,'.')\n",
        "plt.show()"
      ],
      "metadata": {
        "colab": {
          "base_uri": "https://localhost:8080/",
          "height": 285
        },
        "id": "M8uqbq7NPAkI",
        "outputId": "7c2a49ad-48f8-47e0-c9cc-2cf268c0ccb2"
      },
      "execution_count": 11,
      "outputs": [
        {
          "output_type": "display_data",
          "data": {
            "text/plain": [
              "<Figure size 432x288 with 1 Axes>"
            ],
            "image/png": "[encoded data removed]"
          },
          "metadata": {
            "needs_background": "light"
          }
        }
      ]
    },
    {
      "cell_type": "code",
      "source": [
        "import matplotlib.pyplot as plt\n",
        "plt.hist(var_series_sdlunch_math,bins=20,align='right')\n",
        "plt.show()"
      ],
      "metadata": {
        "colab": {
          "base_uri": "https://localhost:8080/",
          "height": 285
        },
        "id": "XeGixOoUPJir",
        "outputId": "7d9ef50a-713b-4009-a38f-927949c87742"
      },
      "execution_count": 12,
      "outputs": [
        {
          "output_type": "display_data",
          "data": {
            "text/plain": [
              "<Figure size 432x288 with 1 Axes>"
            ],
            "image/png": "[encoded data removed]"
          },
          "metadata": {
            "needs_background": "light"
          }
        }
      ]
    },
    {
      "cell_type": "code",
      "source": [
        "import matplotlib.pyplot as plt\n",
        "\n",
        "plt.subplot(1,2,1)\n",
        "plt.title('Оцінки з математики')\n",
        "plt.boxplot(var_series_sdlunch_math)\n",
        "plt.subplot(1,2,2)\n",
        "plt.title('Оцінки з читання')\n",
        "plt.boxplot(var_series_sdlunch_read)\n",
        "\n",
        "plt.show()"
      ],
      "metadata": {
        "colab": {
          "base_uri": "https://localhost:8080/",
          "height": 301
        },
        "id": "e2K8EfhzPWW-",
        "outputId": "4f445b15-8c5a-45ea-af34-9d44b799c6e2"
      },
      "execution_count": 13,
      "outputs": [
        {
          "output_type": "display_data",
          "data": {
            "text/plain": [
              "<Figure size 432x288 with 2 Axes>"
            ],
            "image/png": "[encoded data removed]"
          },
          "metadata": {
            "needs_background": "light"
          }
        }
      ]
    },
    {
      "cell_type": "code",
      "source": [
        "#Let's create own functions for mean and sd \n",
        "def stat_mean(S):\n",
        "  l=len(S)\n",
        "  sum=0\n",
        "  for i in S:\n",
        "    sum+=i\n",
        "  return sum/l\n",
        "\n",
        "def stat_stdev(S):\n",
        "  sq=[s**2 for s in S]\n",
        "  return stat_mean(sq)-(stat_mean(S))**2\n",
        "\n",
        "#Mean and SD of Math scores for person who are eating st. lunch\n",
        "stat_mean(var_series_sdlunch_math),stat_stdev(var_series_sdlunch_math)"
      ],
      "metadata": {
        "colab": {
          "base_uri": "https://localhost:8080/"
        },
        "id": "OXExf1NQQ3Kc",
        "outputId": "d963c2fa-50f6-49d8-8ad4-d8e608604cc3"
      },
      "execution_count": 15,
      "outputs": [
        {
          "output_type": "execute_result",
          "data": {
            "text/plain": [
              "(70.03410852713178, 186.12906916651718)"
            ]
          },
          "metadata": {},
          "execution_count": 15
        }
      ]
    },
    {
      "cell_type": "code",
      "source": [
        "\n",
        "#Mean and SD of reading scores for person who are eating st. lunch\n",
        "stat_mean(var_series_sdlunch_read),stat_stdev(var_series_sdlunch_read)"
      ],
      "metadata": {
        "colab": {
          "base_uri": "https://localhost:8080/"
        },
        "id": "zSYcXKNFRJQQ",
        "outputId": "dc6a3d56-d03e-4657-d0c5-c41288e31036"
      },
      "execution_count": 16,
      "outputs": [
        {
          "output_type": "execute_result",
          "data": {
            "text/plain": [
              "(71.65426356589147, 190.98899344991332)"
            ]
          },
          "metadata": {},
          "execution_count": 16
        }
      ]
    },
    {
      "cell_type": "markdown",
      "source": [
        "Secondly for data with REFUSED LUNCHES"
      ],
      "metadata": {
        "id": "5GYp9DumRjZT"
      }
    },
    {
      "cell_type": "code",
      "source": [
        "import matplotlib.pyplot as plt\n",
        "import numpy as np\n",
        "#Let's create empirical distribution function\n",
        "def emp_dist_func(x,S):\n",
        "  D=[i for i in S if i<x]\n",
        "  return len(D)/len(S)\n",
        "  \n",
        "x=np.arange(min(var_series_reflunch_math),max(var_series_reflunch_math),0.01)\n",
        "y=[]\n",
        "for i in x:\n",
        "  y.append(emp_dist_func(i,var_series_reflunch_math))\n",
        "plt.plot(x,y,'.')\n",
        "plt.show()"
      ],
      "metadata": {
        "colab": {
          "base_uri": "https://localhost:8080/",
          "height": 285
        },
        "id": "6YwaMG_6RnYg",
        "outputId": "0f1a6a8b-e399-4b76-acb7-9543ea9dff8b"
      },
      "execution_count": 17,
      "outputs": [
        {
          "output_type": "display_data",
          "data": {
            "text/plain": [
              "<Figure size 432x288 with 1 Axes>"
            ],
            "image/png": "[encoded data removed]"
          },
          "metadata": {
            "needs_background": "light"
          }
        }
      ]
    },
    {
      "cell_type": "code",
      "source": [
        "import matplotlib.pyplot as plt\n",
        "plt.hist(var_series_reflunch_math,bins=20,align='right')\n",
        "plt.show()"
      ],
      "metadata": {
        "colab": {
          "base_uri": "https://localhost:8080/",
          "height": 285
        },
        "id": "X_lrHY3xRjLp",
        "outputId": "1137908d-dde2-4ec5-ff1c-0f1a2bc55e5f"
      },
      "execution_count": 18,
      "outputs": [
        {
          "output_type": "display_data",
          "data": {
            "text/plain": [
              "<Figure size 432x288 with 1 Axes>"
            ],
            "image/png": "[encoded data removed]"
          },
          "metadata": {
            "needs_background": "light"
          }
        }
      ]
    },
    {
      "cell_type": "code",
      "source": [
        "import matplotlib.pyplot as plt\n",
        "\n",
        "plt.subplot(1,2,1)\n",
        "plt.title('Оцінки з математики')\n",
        "plt.boxplot(var_series_reflunch_math)\n",
        "plt.subplot(1,2,2)\n",
        "plt.title('Оцінки з читання')\n",
        "plt.boxplot(var_series_reflunch_read)\n",
        "\n",
        "plt.show()"
      ],
      "metadata": {
        "colab": {
          "base_uri": "https://localhost:8080/",
          "height": 301
        },
        "id": "vfJyfo3SR3Pd",
        "outputId": "3fba53c0-c404-468f-c004-7f0103bc697b"
      },
      "execution_count": 20,
      "outputs": [
        {
          "output_type": "display_data",
          "data": {
            "text/plain": [
              "<Figure size 432x288 with 2 Axes>"
            ],
            "image/png": "[encoded data removed]"
          },
          "metadata": {
            "needs_background": "light"
          }
        }
      ]
    },
    {
      "cell_type": "code",
      "source": [
        "\n",
        "#Mean and SD of Math scores for person who are eating ref.lunch\n",
        "stat_mean(var_series_reflunch_math),stat_stdev(var_series_reflunch_math)\n"
      ],
      "metadata": {
        "colab": {
          "base_uri": "https://localhost:8080/"
        },
        "id": "veU-EkXKSOYR",
        "outputId": "d0ca42a3-8aad-4fd7-8e04-afc6a8f77836"
      },
      "execution_count": 21,
      "outputs": [
        {
          "output_type": "execute_result",
          "data": {
            "text/plain": [
              "(58.92112676056338, 229.17687760365015)"
            ]
          },
          "metadata": {},
          "execution_count": 21
        }
      ]
    },
    {
      "cell_type": "code",
      "source": [
        "#Mean and SD of Math scores for person who are eating ref.lunch\n",
        "stat_mean(var_series_reflunch_read),stat_stdev(var_series_reflunch_read)\n"
      ],
      "metadata": {
        "colab": {
          "base_uri": "https://localhost:8080/"
        },
        "id": "Oczo7UWMSWs-",
        "outputId": "c826b66f-d385-457a-a4cf-6c93d9fdbca3"
      },
      "execution_count": 22,
      "outputs": [
        {
          "output_type": "execute_result",
          "data": {
            "text/plain": [
              "(64.65352112676057, 221.24614957349695)"
            ]
          },
          "metadata": {},
          "execution_count": 22
        }
      ]
    }
  ]
}