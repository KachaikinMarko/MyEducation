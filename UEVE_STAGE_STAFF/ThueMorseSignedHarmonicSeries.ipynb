{
  "nbformat": 4,
  "nbformat_minor": 0,
  "metadata": {
    "colab": {
      "name": "ThueMorseSignedHarmonicSeries.ipynb",
      "provenance": []
    },
    "kernelspec": {
      "name": "python3",
      "display_name": "Python 3"
    },
    "language_info": {
      "name": "python"
    }
  },
  "cells": [
    {
      "cell_type": "markdown",
      "source": [
        "First, we create generator of Thue-Morse sequence (t_n)"
      ],
      "metadata": {
        "id": "9WYAKS5h0Jx5"
      }
    },
    {
      "cell_type": "code",
      "source": [
        "def tm_seq(n):\n",
        "  if n == 0:\n",
        "    return 0\n",
        "  else:\n",
        "      N = format(n,'b')\n",
        "      M = [int(i) for i in N]\n",
        "      R = sum(M)\n",
        "      if R % 2 == 1:\n",
        "        return 1\n",
        "      else:\n",
        "        return 0\n",
        "[tm_seq(i) for i in range (0,8)]\n",
        "#Compare with numbers in wiki 01101001"
      ],
      "metadata": {
        "colab": {
          "base_uri": "https://localhost:8080/"
        },
        "id": "3xME4wxLyuVc",
        "outputId": "7d113184-8fd3-4fe4-eb14-a8917d4e4332"
      },
      "execution_count": 9,
      "outputs": [
        {
          "output_type": "execute_result",
          "data": {
            "text/plain": [
              "[0, 1, 1, 0, 1, 0, 0, 1]"
            ]
          },
          "metadata": {},
          "execution_count": 9
        }
      ]
    },
    {
      "cell_type": "markdown",
      "source": [
        "Summ of (-1)^t_n"
      ],
      "metadata": {
        "id": "c_TUKo3b0jJt"
      }
    },
    {
      "cell_type": "code",
      "source": [
        "def thue_morse_sign_sum(n):\n",
        "  T = [tm_seq(i) for i in range (0,n+1)]\n",
        "  S = 0\n",
        "  for j in T:\n",
        "    S = S + (-1)**j\n",
        "  return S\n",
        "\n",
        "#[thue_morse_sign_sum(k) for k in range(0,1000)]"
      ],
      "metadata": {
        "id": "74bM-awy0SxY"
      },
      "execution_count": 12,
      "outputs": []
    },
    {
      "cell_type": "markdown",
      "source": [
        "Thue-Morse signed harmonic series"
      ],
      "metadata": {
        "id": "HQ1qfDqZ2UYH"
      }
    },
    {
      "cell_type": "code",
      "source": [
        "import numpy as np\n",
        "def thue_morse_signed_harmonic_sum(n):\n",
        "  T = [tm_seq(i) for i in range (0,n+1)]\n",
        "  S = 1\n",
        "  for j in range(1,n+1):\n",
        "    S = S + (np.power(-1,T[j]))/(j+1)\n",
        "  return S\n",
        "\n",
        "thue_morse_signed_harmonic_sum(1000000)"
      ],
      "metadata": {
        "colab": {
          "base_uri": "https://localhost:8080/"
        },
        "id": "51v_dD-62TTe",
        "outputId": "8edc2364-1f33-490b-d6c1-fd0eb09f9310"
      },
      "execution_count": 16,
      "outputs": [
        {
          "output_type": "execute_result",
          "data": {
            "text/plain": [
              "0.39876008810940644"
            ]
          },
          "metadata": {},
          "execution_count": 16
        }
      ]
    }
  ]
}