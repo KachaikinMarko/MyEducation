{
  "nbformat": 4,
  "nbformat_minor": 0,
  "metadata": {
    "colab": {
      "name": "Kachaikin-Statistics-HW2-TASK1.ipynb",
      "provenance": [],
      "collapsed_sections": []
    },
    "kernelspec": {
      "name": "python3",
      "display_name": "Python 3"
    },
    "language_info": {
      "name": "python"
    }
  },
  "cells": [
    {
      "cell_type": "markdown",
      "source": [
        "**TASK 1**\n"
      ],
      "metadata": {
        "id": "nmrEQNoeUGfF"
      }
    },
    {
      "cell_type": "code",
      "execution_count": 9,
      "metadata": {
        "colab": {
          "base_uri": "https://localhost:8080/"
        },
        "id": "_XZtDgMaUFjg",
        "outputId": "76001ad6-5f72-4abe-e84d-d4de3f2eda33"
      },
      "outputs": [
        {
          "output_type": "stream",
          "name": "stdout",
          "text": [
            "First 5 elements of sample [8.33, 37.0, 4.23, 42.46, 21.57]\n"
          ]
        }
      ],
      "source": [
        "# We generated this sample by random number generator\n",
        "sample=[8.33,37.00,4.23,42.46,21.57,54.62,31.00,8.27,53.31,41.41,83.11,65.62,55.08,86.71,73.57,72.13,21.74\n",
        ",7.78 ,17.81,46.10,47.36,27.37,84.96,68.57,97.46]\n",
        "#For example let show some elements from sample(first five elements)...\n",
        "print('First 5 elements of sample',sample[:5])\n"
      ]
    },
    {
      "cell_type": "markdown",
      "source": [
        "***a)***"
      ],
      "metadata": {
        "id": "3ZCS-rp7Zs06"
      }
    },
    {
      "cell_type": "code",
      "source": [
        "#For create var.series for this sample, we will sort it in ascending order.\n",
        "var_series=sorted(sample)\n",
        "#Let's look how first 5 elements changed\n",
        "print('First 5 elements of variational series',var_series[:5])"
      ],
      "metadata": {
        "colab": {
          "base_uri": "https://localhost:8080/"
        },
        "id": "4zrUGR-7VTjN",
        "outputId": "1a78abe6-d05c-44cb-f0bb-7e3996a210f4"
      },
      "execution_count": 10,
      "outputs": [
        {
          "output_type": "stream",
          "name": "stdout",
          "text": [
            "First 5 elements of variational series [4.23, 7.78, 8.27, 8.33, 17.81]\n"
          ]
        }
      ]
    },
    {
      "cell_type": "code",
      "source": [
        "# By definition of range, we should substract minimum from maximum of var.series\n",
        "def stat_range(s):\n",
        "  return (max(s)-min(s))\n",
        "print(\"Range of variational series is =\",stat_range(var_series))\n"
      ],
      "metadata": {
        "colab": {
          "base_uri": "https://localhost:8080/"
        },
        "id": "t2NJyTn_XYKY",
        "outputId": "1dee20cd-4276-4dc9-d381-f0bf1304aefd"
      },
      "execution_count": 11,
      "outputs": [
        {
          "output_type": "stream",
          "name": "stdout",
          "text": [
            "Range of variational series is = 93.22999999999999\n"
          ]
        }
      ]
    },
    {
      "cell_type": "markdown",
      "source": [
        "***б)***"
      ],
      "metadata": {
        "id": "N8OOMDLDZwHA"
      }
    },
    {
      "cell_type": "code",
      "source": [
        "# Let_s create our own function for median\n",
        "def stat_median(s):\n",
        "  s=sorted(s)\n",
        "  l=len(s)\n",
        "  if l%2==1:\n",
        "    return s[-1+(l+1)//2]\n",
        "  else:\n",
        "    return (s[-1+l//2]+s[l//2])/2\n",
        "\n",
        "print(\"Median of our var.series is \",stat_median(var_series))\n",
        "\n"
      ],
      "metadata": {
        "colab": {
          "base_uri": "https://localhost:8080/"
        },
        "id": "eo30m1iyYpO5",
        "outputId": "6e07ac59-43e4-42df-ab59-d983da3e98ad"
      },
      "execution_count": 18,
      "outputs": [
        {
          "output_type": "stream",
          "name": "stdout",
          "text": [
            "Median of our var.series is  46.1\n"
          ]
        }
      ]
    },
    {
      "cell_type": "code",
      "source": [
        "# Our own function for quartiles\n",
        "def stat_quartiles(s):\n",
        "  s=sorted(s)\n",
        "  Q2=stat_median(s)\n",
        "  s1=[i for i in s if i<=Q2] \n",
        "  s3=[i for i in s if i>=Q2]\n",
        "  Q1=stat_median(s1)\n",
        "  Q3=stat_median(s3)\n",
        "  return [Q1,Q2,Q3]\n",
        "print('Lower quartile q1=',stat_quartiles(var_series)[0])\n",
        "print('Median q2=',stat_quartiles(var_series)[1])\n",
        "print('Upper quartile q3=',stat_quartiles(var_series)[2])\n"
      ],
      "metadata": {
        "colab": {
          "base_uri": "https://localhost:8080/"
        },
        "id": "odihC9QxhFjE",
        "outputId": "217f2acd-ebe2-4c26-ad69-c820ceb228fb"
      },
      "execution_count": 23,
      "outputs": [
        {
          "output_type": "stream",
          "name": "stdout",
          "text": [
            "Lower quartile q1= 21.74\n",
            "Median q2= 46.1\n",
            "Upper quartile q3= 68.57\n"
          ]
        }
      ]
    },
    {
      "cell_type": "code",
      "source": [
        "# For Ящик з вусиками:) there is a well function in matplotlib...\n",
        "import matplotlib.pyplot as plt\n",
        "plt.boxplot(var_series)\n",
        "plt.show()"
      ],
      "metadata": {
        "colab": {
          "base_uri": "https://localhost:8080/",
          "height": 285
        },
        "id": "urUd7vJCbJ5D",
        "outputId": "3ea70a3b-e921-4ffd-8504-409bf381c541"
      },
      "execution_count": 26,
      "outputs": [
        {
          "output_type": "display_data",
          "data": {
            "text/plain": [
              "<Figure size 432x288 with 1 Axes>"
            ],
            "image/png": "[encoded data removed]"
          },
          "metadata": {
            "needs_background": "light"
          }
        }
      ]
    },
    {
      "cell_type": "markdown",
      "source": [
        "***в)***\n"
      ],
      "metadata": {
        "id": "WNJz4YzvmoEl"
      }
    },
    {
      "cell_type": "code",
      "source": [
        "#Let's create empirical distribution function\n",
        "def emp_dist_func(x,S):\n",
        "  D=[i for i in S if i<x]\n",
        "  return len(D)/len(S)\n",
        "\n",
        "print('Значення емпiричної функцiї розподiлу в точцi 30 = ',emp_dist_func(30,var_series))\n"
      ],
      "metadata": {
        "colab": {
          "base_uri": "https://localhost:8080/"
        },
        "id": "kF22jky0mxrZ",
        "outputId": "1b83bc4f-2f2e-40ea-cac4-3b8454c8dd91"
      },
      "execution_count": 46,
      "outputs": [
        {
          "output_type": "stream",
          "name": "stdout",
          "text": [
            "Значення емпiричної функцiї розподiлу в точцi 30 =  0.32\n"
          ]
        }
      ]
    },
    {
      "cell_type": "code",
      "source": [
        "import matplotlib.pyplot as plt\n",
        "import numpy as np\n",
        "x=np.arange(min(var_series),max(var_series),0.0001)\n",
        "y=[]\n",
        "for i in x:\n",
        "  y.append(emp_dist_func(i,var_series))\n",
        "plt.plot(x,y,'.')\n",
        "plt.show()"
      ],
      "metadata": {
        "colab": {
          "base_uri": "https://localhost:8080/",
          "height": 288
        },
        "id": "v2gqMMGPhake",
        "outputId": "8bcfc73e-969d-4b9b-cfd9-9bae76d5819c"
      },
      "execution_count": 45,
      "outputs": [
        {
          "output_type": "display_data",
          "data": {
            "text/plain": [
              "<Figure size 432x288 with 1 Axes>"
            ],
            "image/png": "[encoded data removed]"
          },
          "metadata": {
            "needs_background": "light"
          }
        }
      ]
    },
    {
      "cell_type": "markdown",
      "source": [
        "НАБЛИЖЕНІ 95%-ДОВІРЧІ ІНТЕРВАЛИ ПОБУДОВАНІ В ЗОШИТІ...."
      ],
      "metadata": {
        "id": "k97gi8cXj0YH"
      }
    },
    {
      "cell_type": "markdown",
      "source": [
        "***д)***"
      ],
      "metadata": {
        "id": "rAMjuqW4o4Mn"
      }
    },
    {
      "cell_type": "code",
      "source": [
        "# Last in this task... Ok, let's creat our own sample mean function\n",
        "def stat_mean(S):\n",
        "  l=len(S)\n",
        "  sum=0\n",
        "  for i in S:\n",
        "    sum+=i\n",
        "  return sum/l\n",
        "stat_mean(var_series)\n"
      ],
      "metadata": {
        "colab": {
          "base_uri": "https://localhost:8080/"
        },
        "id": "Mjsb7lJzo8fJ",
        "outputId": "9ed85cde-618c-4202-8d1a-f9c3f6a2983a"
      },
      "execution_count": 47,
      "outputs": [
        {
          "output_type": "execute_result",
          "data": {
            "text/plain": [
              "46.302800000000005"
            ]
          },
          "metadata": {},
          "execution_count": 47
        }
      ]
    }
  ]
}