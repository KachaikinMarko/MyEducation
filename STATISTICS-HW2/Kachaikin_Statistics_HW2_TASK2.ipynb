{
  "nbformat": 4,
  "nbformat_minor": 0,
  "metadata": {
    "colab": {
      "name": "Kachaikin-Statistics-HW2-TASK2.ipynb",
      "provenance": []
    },
    "kernelspec": {
      "name": "python3",
      "display_name": "Python 3"
    },
    "language_info": {
      "name": "python"
    }
  },
  "cells": [
    {
      "cell_type": "markdown",
      "source": [
        "**TASK 2**"
      ],
      "metadata": {
        "id": "WQKl6jq994Bv"
      }
    },
    {
      "cell_type": "code",
      "execution_count": 13,
      "metadata": {
        "colab": {
          "base_uri": "https://localhost:8080/"
        },
        "id": "l-Kf-s-lqBL0",
        "outputId": "8314d796-3fc8-4035-dc94-6acacb4ca33c"
      },
      "outputs": [
        {
          "output_type": "execute_result",
          "data": {
            "text/plain": [
              "[72, 69, 90, 47, 76, 71, 88, 40, 64, 38]"
            ]
          },
          "metadata": {},
          "execution_count": 13
        }
      ],
      "source": [
        "import pandas as pd\n",
        "#I download this dataset on my git, because i would like to work with it in google colab...\n",
        "df=pd.read_csv('https://raw.githubusercontent.com/KachaikinMarko/MyEducation/main/StudentsPerformance.csv')\n",
        "sample = list(df['math score']) # We will take only math scores as data\n",
        "var_series=sorted(sample) # Variational series of data\n",
        "\n",
        "sample[:10] # For example, we will show first 10 elements of data\n",
        "\n",
        "\n"
      ]
    },
    {
      "cell_type": "markdown",
      "source": [
        "***a)***"
      ],
      "metadata": {
        "id": "7iEGlTWd925m"
      }
    },
    {
      "cell_type": "code",
      "source": [
        "import matplotlib.pyplot as plt\n",
        "import numpy as np\n",
        "#Let's create empirical distribution function\n",
        "def emp_dist_func(x,S):\n",
        "  D=[i for i in S if i<x]\n",
        "  return len(D)/len(S)\n",
        "  \n",
        "x=np.arange(min(var_series),max(var_series),0.01)\n",
        "y=[]\n",
        "for i in x:\n",
        "  y.append(emp_dist_func(i,var_series))\n",
        "plt.plot(x,y,'.')\n",
        "plt.show()"
      ],
      "metadata": {
        "colab": {
          "base_uri": "https://localhost:8080/",
          "height": 285
        },
        "id": "6xTD8EYF-xt8",
        "outputId": "0b614f73-4fd8-4ad6-cb53-9735ae54da47"
      },
      "execution_count": 18,
      "outputs": [
        {
          "output_type": "display_data",
          "data": {
            "text/plain": [
              "<Figure size 432x288 with 1 Axes>"
            ],
            "image/png": "[encoded data removed]"
          },
          "metadata": {
            "needs_background": "light"
          }
        }
      ]
    },
    {
      "cell_type": "markdown",
      "source": [
        "***b)***"
      ],
      "metadata": {
        "id": "TZAmpPY_AAbs"
      }
    },
    {
      "cell_type": "code",
      "source": [
        "import matplotlib.pyplot as plt\n",
        "plt.hist(var_series,bins=20,align='right')\n",
        "plt.show()"
      ],
      "metadata": {
        "colab": {
          "base_uri": "https://localhost:8080/",
          "height": 285
        },
        "id": "YwhQko07AB6s",
        "outputId": "d5eab926-1380-46d6-b1b9-d457569b4edc"
      },
      "execution_count": 32,
      "outputs": [
        {
          "output_type": "display_data",
          "data": {
            "text/plain": [
              "<Figure size 432x288 with 1 Axes>"
            ],
            "image/png": "[encoded data removed]"
          },
          "metadata": {
            "needs_background": "light"
          }
        }
      ]
    },
    {
      "cell_type": "markdown",
      "source": [
        "***в)***"
      ],
      "metadata": {
        "id": "C6cFW7PUGvi3"
      }
    },
    {
      "cell_type": "code",
      "source": [
        "import matplotlib.pyplot as plt\n",
        "new_var_series = sorted(list(df['reading score']))\n",
        "plt.subplot(1,2,1)\n",
        "plt.title('Оцінки з математики')\n",
        "plt.boxplot(var_series)\n",
        "plt.subplot(1,2,2)\n",
        "plt.title('Оцінки з читання')\n",
        "plt.boxplot(new_var_series)\n",
        "\n",
        "plt.show()"
      ],
      "metadata": {
        "colab": {
          "base_uri": "https://localhost:8080/",
          "height": 301
        },
        "id": "us8f-xgqG1a5",
        "outputId": "d09dd73b-704b-4755-a2dd-455fe2f2d85e"
      },
      "execution_count": 56,
      "outputs": [
        {
          "output_type": "display_data",
          "data": {
            "text/plain": [
              "<Figure size 432x288 with 2 Axes>"
            ],
            "image/png": "[encoded data removed]"
          },
          "metadata": {
            "needs_background": "light"
          }
        }
      ]
    },
    {
      "cell_type": "markdown",
      "source": [
        "***д)***"
      ],
      "metadata": {
        "id": "zh-CnGGmIrbL"
      }
    },
    {
      "cell_type": "code",
      "source": [
        "#Let's create own functions for mean and sd \n",
        "def stat_mean(S):\n",
        "  l=len(S)\n",
        "  sum=0\n",
        "  for i in S:\n",
        "    sum+=i\n",
        "  return sum/l\n",
        "\n",
        "def stat_stdev(S):\n",
        "  sq=[s**2 for s in S]\n",
        "  return stat_mean(sq)-(stat_mean(S))**2\n",
        "\n",
        "stat_mean(var_series),stat_stdev(var_series)\n"
      ],
      "metadata": {
        "colab": {
          "base_uri": "https://localhost:8080/"
        },
        "id": "V1CBNBSpIs3Q",
        "outputId": "0816b93b-75c0-45a2-d914-b26e77f8b6aa"
      },
      "execution_count": 53,
      "outputs": [
        {
          "output_type": "execute_result",
          "data": {
            "text/plain": [
              "(66.089, 229.68907899999977)"
            ]
          },
          "metadata": {},
          "execution_count": 53
        }
      ]
    },
    {
      "cell_type": "markdown",
      "source": [
        "НАБЛИЖЕНІ 95%-ДОВІРЧІ ІНТЕРВАЛИ ПОБУДОВАНІ В ЗОШИТІ...."
      ],
      "metadata": {
        "id": "XwAz5GroKsTa"
      }
    }
  ]
}