{
  "nbformat": 4,
  "nbformat_minor": 0,
  "metadata": {
    "colab": {
      "name": "StatisticsKachaikinModuleTest.ipynb",
      "provenance": []
    },
    "kernelspec": {
      "name": "python3",
      "display_name": "Python 3"
    },
    "language_info": {
      "name": "python"
    }
  },
  "cells": [
    {
      "cell_type": "markdown",
      "source": [
        "THAT'S MY TASK FOR MODULE TEST"
      ],
      "metadata": {
        "id": "moBLrY8quk5-"
      }
    },
    {
      "cell_type": "code",
      "source": [
        "#Okay, we took data from open online generator of normal distributed numbers\n",
        "data = [55.03,\n",
        "2.27,\n",
        "89.21,\n",
        "78.28,\n",
        "70.06,\n",
        "13.16,\n",
        "82.29,\n",
        "63.80,\n",
        "99.58,\n",
        "23.54,\n",
        "34.02,\n",
        "44.47]\n",
        "print(data)"
      ],
      "metadata": {
        "colab": {
          "base_uri": "https://localhost:8080/"
        },
        "id": "O9vhpmJHujaW",
        "outputId": "dfc73fa4-26a6-41a8-a3b5-fad968651976"
      },
      "execution_count": 1,
      "outputs": [
        {
          "output_type": "stream",
          "name": "stdout",
          "text": [
            "[55.03, 2.27, 89.21, 78.28, 70.06, 13.16, 82.29, 63.8, 99.58, 23.54, 34.02, 44.47]\n"
          ]
        }
      ]
    },
    {
      "cell_type": "markdown",
      "source": [
        "Sample Mean (Вибіркове середнє)"
      ],
      "metadata": {
        "id": "CIzHEa2zqIe1"
      }
    },
    {
      "cell_type": "code",
      "execution_count": 6,
      "metadata": {
        "colab": {
          "base_uri": "https://localhost:8080/"
        },
        "id": "WZ7h7j4Ipj3i",
        "outputId": "828eacab-a035-40eb-a24c-c99324127fc1"
      },
      "outputs": [
        {
          "output_type": "stream",
          "name": "stdout",
          "text": [
            "Вибіркове середнє для згенерованої вибірки =  54.642500000000005\n"
          ]
        }
      ],
      "source": [
        "def stat_sample_mean(S):\n",
        "  l=len(S)\n",
        "  sum=0\n",
        "  for i in S:\n",
        "    sum+=i\n",
        "  return sum/l\n",
        "print('Вибіркове середнє для згенерованої вибірки = ',stat_sample_mean(data))"
      ]
    },
    {
      "cell_type": "markdown",
      "source": [
        "Sample variance( Невиправлена вибіркова дисперсія)"
      ],
      "metadata": {
        "id": "Ukxjp-9UqbVw"
      }
    },
    {
      "cell_type": "code",
      "source": [
        "def stat_sample_var(S):\n",
        "  sq=[s**2 for s in S]\n",
        "  return stat_sample_mean(sq)-(stat_sample_mean(S))**2\n",
        "print('Вибіркова невиправлена дисперсія для згенерованої вибірки = ', stat_sample_var(data))"
      ],
      "metadata": {
        "colab": {
          "base_uri": "https://localhost:8080/"
        },
        "id": "EKBbdR5Pp88Y",
        "outputId": "4a17211e-cb14-414b-cb3c-170b72cca8d8"
      },
      "execution_count": 7,
      "outputs": [
        {
          "output_type": "stream",
          "name": "stdout",
          "text": [
            "Вибіркова невиправлена дисперсія для згенерованої вибірки =  901.5771020833331\n"
          ]
        }
      ]
    },
    {
      "cell_type": "markdown",
      "source": [
        "Empirical distribution function"
      ],
      "metadata": {
        "id": "iQotId0prd_b"
      }
    },
    {
      "cell_type": "code",
      "source": [
        "def emp_dist_func(x,S):\n",
        "  D=[i for i in S if i<x]\n",
        "  return len(D)/len(S)\n",
        "print('Значення емпіричної функції розподілу в точці 60 = ',emp_dist_func(60,data))\n"
      ],
      "metadata": {
        "colab": {
          "base_uri": "https://localhost:8080/"
        },
        "id": "y7YjQvI4p83u",
        "outputId": "6cf696cd-8195-4a68-9eaa-9f1edc0cbebc"
      },
      "execution_count": 8,
      "outputs": [
        {
          "output_type": "stream",
          "name": "stdout",
          "text": [
            "Значення емпіричної функції розподілу в точці 60 =  0.5\n"
          ]
        }
      ]
    },
    {
      "cell_type": "markdown",
      "source": [
        "Порахуємо довірчий інтервал вручну)))"
      ],
      "metadata": {
        "id": "y7QBBBAo4Z0N"
      }
    }
  ]
}