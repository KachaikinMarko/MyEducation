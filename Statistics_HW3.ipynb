{
  "nbformat": 4,
  "nbformat_minor": 0,
  "metadata": {
    "colab": {
      "name": "Statistics-HW3",
      "provenance": []
    },
    "kernelspec": {
      "name": "python3",
      "display_name": "Python 3"
    },
    "language_info": {
      "name": "python"
    }
  },
  "cells": [
    {
      "cell_type": "markdown",
      "source": [
        "# **TASK 2**"
      ],
      "metadata": {
        "id": "9omFOizNhhz_"
      }
    },
    {
      "cell_type": "markdown",
      "source": [
        "**a)**"
      ],
      "metadata": {
        "id": "tHhFVVFHh12N"
      }
    },
    {
      "cell_type": "code",
      "execution_count": null,
      "metadata": {
        "colab": {
          "base_uri": "https://localhost:8080/",
          "height": 285
        },
        "id": "rG25Jqlog2RF",
        "outputId": "190e5f12-980b-4824-90ec-ffdc70eb09dc"
      },
      "outputs": [
        {
          "output_type": "display_data",
          "data": {
            "text/plain": [
              "<Figure size 432x288 with 1 Axes>"
            ],
            "image/png": "[encoded data removed]"
          },
          "metadata": {
            "needs_background": "light"
          }
        }
      ],
      "source": [
        "import matplotlib.pyplot as plt\n",
        "import numpy as np\n",
        "\n",
        "x=[i for i in range(34)]\n",
        "F=[5, 7, 3, 3, 5, 2, 4, 4, 1, 3, 1, 3, 1, 1, 1, 1, 0, 0, 0, 0, 0, 0, 0, 0, 1, 0, 0, 0, 0, 0, 0, 0, 0, 0]\n",
        "plt.plot(x,F)\n",
        "plt.show()"
      ]
    },
    {
      "cell_type": "markdown",
      "source": [
        "***b)***"
      ],
      "metadata": {
        "id": "VTUTM0HCh-l9"
      }
    },
    {
      "cell_type": "code",
      "source": [
        "#Let's create own functions for mean and sd \n",
        "def stat_mean(S):\n",
        "  l=len(S)\n",
        "  sum=0\n",
        "  for i in S:\n",
        "    sum+=i\n",
        "  return sum/l\n",
        "\n",
        "def stat_stdev(S):\n",
        "  sq=[s**2 for s in S]\n",
        "  return stat_mean(sq)-(stat_mean(S))**2\n",
        "\n",
        "stat_mean(F),stat_stdev(F)"
      ],
      "metadata": {
        "colab": {
          "base_uri": "https://localhost:8080/"
        },
        "id": "oQIyBW3Sho4J",
        "outputId": "2bc74233-6e75-415d-c415-bc48af7a013f"
      },
      "execution_count": null,
      "outputs": [
        {
          "output_type": "execute_result",
          "data": {
            "text/plain": [
              "(1.3529411764705883, 3.404844290657439)"
            ]
          },
          "metadata": {},
          "execution_count": 3
        }
      ]
    },
    {
      "cell_type": "markdown",
      "source": [
        "***г)***"
      ],
      "metadata": {
        "id": "MOMsLQCbQ9B0"
      }
    },
    {
      "cell_type": "code",
      "source": [
        "zeros_in_data=[i for i in F if i==0]\n",
        "len(zeros_in_data)/len(F)"
      ],
      "metadata": {
        "colab": {
          "base_uri": "https://localhost:8080/"
        },
        "id": "qJ-_hTf2Q81N",
        "outputId": "419f395d-e081-489a-aeea-eb8bed66a156"
      },
      "execution_count": null,
      "outputs": [
        {
          "output_type": "execute_result",
          "data": {
            "text/plain": [
              "0.5"
            ]
          },
          "metadata": {},
          "execution_count": 4
        }
      ]
    }
  ]
}